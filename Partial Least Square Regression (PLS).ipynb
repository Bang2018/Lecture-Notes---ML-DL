{
 "cells": [
  {
   "cell_type": "code",
   "execution_count": null,
   "metadata": {},
   "outputs": [],
   "source": []
  },
  {
   "cell_type": "code",
   "execution_count": 3,
   "metadata": {},
   "outputs": [],
   "source": [
    "import pandas as pd\n",
    "import numpy as np\n",
    "from sklearn.cross_decomposition import PLSRegression\n",
    "from sklearn.model_selection import cross_val_predict\n",
    "from sklearn.metrics import mean_squared_error, r2_score\n",
    "import matplotlib.pyplot as plt"
   ]
  },
  {
   "cell_type": "code",
   "execution_count": 4,
   "metadata": {},
   "outputs": [
    {
     "data": {
      "text/html": [
       "<div>\n",
       "<style scoped>\n",
       "    .dataframe tbody tr th:only-of-type {\n",
       "        vertical-align: middle;\n",
       "    }\n",
       "\n",
       "    .dataframe tbody tr th {\n",
       "        vertical-align: top;\n",
       "    }\n",
       "\n",
       "    .dataframe thead th {\n",
       "        text-align: right;\n",
       "    }\n",
       "</style>\n",
       "<table border=\"1\" class=\"dataframe\">\n",
       "  <thead>\n",
       "    <tr style=\"text-align: right;\">\n",
       "      <th></th>\n",
       "      <th>Brix</th>\n",
       "      <th>wl1</th>\n",
       "      <th>wl2</th>\n",
       "      <th>wl3</th>\n",
       "      <th>wl4</th>\n",
       "      <th>wl5</th>\n",
       "      <th>wl6</th>\n",
       "      <th>wl7</th>\n",
       "      <th>wl8</th>\n",
       "      <th>wl9</th>\n",
       "      <th>...</th>\n",
       "      <th>wl591</th>\n",
       "      <th>wl592</th>\n",
       "      <th>wl593</th>\n",
       "      <th>wl594</th>\n",
       "      <th>wl595</th>\n",
       "      <th>wl596</th>\n",
       "      <th>wl597</th>\n",
       "      <th>wl598</th>\n",
       "      <th>wl599</th>\n",
       "      <th>wl600</th>\n",
       "    </tr>\n",
       "  </thead>\n",
       "  <tbody>\n",
       "    <tr>\n",
       "      <th>0</th>\n",
       "      <td>15.5</td>\n",
       "      <td>-1.032355</td>\n",
       "      <td>-1.030551</td>\n",
       "      <td>-1.027970</td>\n",
       "      <td>-1.024937</td>\n",
       "      <td>-1.021866</td>\n",
       "      <td>-1.019143</td>\n",
       "      <td>-1.016866</td>\n",
       "      <td>-1.014910</td>\n",
       "      <td>-1.012907</td>\n",
       "      <td>...</td>\n",
       "      <td>0.692447</td>\n",
       "      <td>0.692944</td>\n",
       "      <td>0.692376</td>\n",
       "      <td>0.690764</td>\n",
       "      <td>0.688081</td>\n",
       "      <td>0.684294</td>\n",
       "      <td>0.679348</td>\n",
       "      <td>0.673240</td>\n",
       "      <td>0.665922</td>\n",
       "      <td>0.657307</td>\n",
       "    </tr>\n",
       "    <tr>\n",
       "      <th>1</th>\n",
       "      <td>16.7</td>\n",
       "      <td>-1.139034</td>\n",
       "      <td>-1.137186</td>\n",
       "      <td>-1.134485</td>\n",
       "      <td>-1.131222</td>\n",
       "      <td>-1.127761</td>\n",
       "      <td>-1.124464</td>\n",
       "      <td>-1.121508</td>\n",
       "      <td>-1.118802</td>\n",
       "      <td>-1.115973</td>\n",
       "      <td>...</td>\n",
       "      <td>0.729328</td>\n",
       "      <td>0.728031</td>\n",
       "      <td>0.725548</td>\n",
       "      <td>0.721815</td>\n",
       "      <td>0.716767</td>\n",
       "      <td>0.710405</td>\n",
       "      <td>0.702706</td>\n",
       "      <td>0.693710</td>\n",
       "      <td>0.683480</td>\n",
       "      <td>0.671960</td>\n",
       "    </tr>\n",
       "    <tr>\n",
       "      <th>2</th>\n",
       "      <td>18.1</td>\n",
       "      <td>-1.152821</td>\n",
       "      <td>-1.150937</td>\n",
       "      <td>-1.148288</td>\n",
       "      <td>-1.145165</td>\n",
       "      <td>-1.141951</td>\n",
       "      <td>-1.138977</td>\n",
       "      <td>-1.136366</td>\n",
       "      <td>-1.134011</td>\n",
       "      <td>-1.131516</td>\n",
       "      <td>...</td>\n",
       "      <td>0.736608</td>\n",
       "      <td>0.735214</td>\n",
       "      <td>0.732669</td>\n",
       "      <td>0.728911</td>\n",
       "      <td>0.723844</td>\n",
       "      <td>0.717415</td>\n",
       "      <td>0.709645</td>\n",
       "      <td>0.700555</td>\n",
       "      <td>0.690147</td>\n",
       "      <td>0.678390</td>\n",
       "    </tr>\n",
       "    <tr>\n",
       "      <th>3</th>\n",
       "      <td>14.8</td>\n",
       "      <td>-1.087215</td>\n",
       "      <td>-1.085455</td>\n",
       "      <td>-1.082867</td>\n",
       "      <td>-1.079797</td>\n",
       "      <td>-1.076568</td>\n",
       "      <td>-1.073632</td>\n",
       "      <td>-1.071087</td>\n",
       "      <td>-1.068877</td>\n",
       "      <td>-1.066654</td>\n",
       "      <td>...</td>\n",
       "      <td>0.758695</td>\n",
       "      <td>0.757963</td>\n",
       "      <td>0.756038</td>\n",
       "      <td>0.752903</td>\n",
       "      <td>0.748496</td>\n",
       "      <td>0.742886</td>\n",
       "      <td>0.736085</td>\n",
       "      <td>0.728019</td>\n",
       "      <td>0.718577</td>\n",
       "      <td>0.707702</td>\n",
       "    </tr>\n",
       "    <tr>\n",
       "      <th>4</th>\n",
       "      <td>15.1</td>\n",
       "      <td>-1.080364</td>\n",
       "      <td>-1.078436</td>\n",
       "      <td>-1.075784</td>\n",
       "      <td>-1.072693</td>\n",
       "      <td>-1.069562</td>\n",
       "      <td>-1.066691</td>\n",
       "      <td>-1.064214</td>\n",
       "      <td>-1.062025</td>\n",
       "      <td>-1.059787</td>\n",
       "      <td>...</td>\n",
       "      <td>0.719793</td>\n",
       "      <td>0.718875</td>\n",
       "      <td>0.716860</td>\n",
       "      <td>0.713771</td>\n",
       "      <td>0.709577</td>\n",
       "      <td>0.704232</td>\n",
       "      <td>0.697717</td>\n",
       "      <td>0.689882</td>\n",
       "      <td>0.680748</td>\n",
       "      <td>0.670263</td>\n",
       "    </tr>\n",
       "  </tbody>\n",
       "</table>\n",
       "<p>5 rows × 601 columns</p>\n",
       "</div>"
      ],
      "text/plain": [
       "   Brix       wl1       wl2       wl3       wl4       wl5       wl6       wl7  \\\n",
       "0  15.5 -1.032355 -1.030551 -1.027970 -1.024937 -1.021866 -1.019143 -1.016866   \n",
       "1  16.7 -1.139034 -1.137186 -1.134485 -1.131222 -1.127761 -1.124464 -1.121508   \n",
       "2  18.1 -1.152821 -1.150937 -1.148288 -1.145165 -1.141951 -1.138977 -1.136366   \n",
       "3  14.8 -1.087215 -1.085455 -1.082867 -1.079797 -1.076568 -1.073632 -1.071087   \n",
       "4  15.1 -1.080364 -1.078436 -1.075784 -1.072693 -1.069562 -1.066691 -1.064214   \n",
       "\n",
       "        wl8       wl9  ...     wl591     wl592     wl593     wl594     wl595  \\\n",
       "0 -1.014910 -1.012907  ...  0.692447  0.692944  0.692376  0.690764  0.688081   \n",
       "1 -1.118802 -1.115973  ...  0.729328  0.728031  0.725548  0.721815  0.716767   \n",
       "2 -1.134011 -1.131516  ...  0.736608  0.735214  0.732669  0.728911  0.723844   \n",
       "3 -1.068877 -1.066654  ...  0.758695  0.757963  0.756038  0.752903  0.748496   \n",
       "4 -1.062025 -1.059787  ...  0.719793  0.718875  0.716860  0.713771  0.709577   \n",
       "\n",
       "      wl596     wl597     wl598     wl599     wl600  \n",
       "0  0.684294  0.679348  0.673240  0.665922  0.657307  \n",
       "1  0.710405  0.702706  0.693710  0.683480  0.671960  \n",
       "2  0.717415  0.709645  0.700555  0.690147  0.678390  \n",
       "3  0.742886  0.736085  0.728019  0.718577  0.707702  \n",
       "4  0.704232  0.697717  0.689882  0.680748  0.670263  \n",
       "\n",
       "[5 rows x 601 columns]"
      ]
     },
     "execution_count": 4,
     "metadata": {},
     "output_type": "execute_result"
    }
   ],
   "source": [
    "df = pd.read_csv(\"peach_spectra_brix.csv\",sep=\",\")\n",
    "df.head()"
   ]
  },
  {
   "cell_type": "code",
   "execution_count": 5,
   "metadata": {},
   "outputs": [
    {
     "name": "stdout",
     "output_type": "stream",
     "text": [
      "Number of rows 50 and number of columns 601\n"
     ]
    }
   ],
   "source": [
    "print(f\"Number of rows {df.shape[0]} and number of columns {df.shape[1]}\")"
   ]
  },
  {
   "cell_type": "markdown",
   "metadata": {},
   "source": [
    "The above result shows that dataset has 50 rows (N) and 601 columns (p). It is a high dimensional data as p>>N. The dimension of the data should be reduced. The lowest dimension is expected to yield lowest MSE. We need to do simulation to find the lowest dimension."
   ]
  },
  {
   "cell_type": "code",
   "execution_count": 6,
   "metadata": {},
   "outputs": [],
   "source": [
    "y = df[\"Brix\"]\n",
    "x = df.drop(\"Brix\",axis=1)"
   ]
  },
  {
   "cell_type": "code",
   "execution_count": 15,
   "metadata": {},
   "outputs": [],
   "source": [
    "def PLS_CV(X,y,number_components,plot_components=True,verbose=True):\n",
    "    MSE = []\n",
    "    n_component = np.arange(0,number_components)\n",
    "    for i in n_component:\n",
    "        pls = PLSRegression(n_components=i+1)\n",
    "        y_cv = cross_val_predict(pls,x,y,cv=10)\n",
    "        MSE.append(mean_squared_error(y,y_cv))\n",
    "        comp= int(i+1)*100/number_components\n",
    "        if verbose:\n",
    "            print(f\"{comp}% completed | MSE = {MSE[i-1]} \")\n",
    "    if verbose:\n",
    "        MSE_MIN = np.argmin(MSE)\n",
    "        print(f\"\\n\\n Minimum MSE obtained at {MSE_MIN} \\n\")\n",
    "    if plot_components:\n",
    "        plt.plot(n_component,np.array(MSE),'-v',color='b')\n",
    "        plt.plot(n_component[MSE_MIN],MSE[MSE_MIN],'+',color='r',ms=10)\n",
    "        plt.title(\"Partial Least Square Regression (PLS)\",fontweight=\"bold\")\n",
    "        plt.xlabel(\"Partial Least Square Components\")\n",
    "        plt.ylabel(\"MSE\")\n",
    "        plt.show()\n",
    "        \n",
    "    pls_opt = PLSRegression(MSE_MIN+1)\n",
    "    pls_opt.fit(X,y)\n",
    "    predicted = pls_opt.predict(X)\n",
    "    ycv = cross_val_predict(pls_opt,X,y,cv=10)\n",
    "    rsquare = r2_score(y,predicted)\n",
    "    rsquarecv = r2_score(y,ycv)\n",
    "    mse = mean_squared_error(y,predicted)\n",
    "    msecv = mean_squared_error(y,ycv)\n",
    "    print(f\"R-Square {rsquare}\")\n",
    "    print(f\"R-SquareCV {rsquarecv}\")\n",
    "    print(f\"MSE {mse}\")\n",
    "    print(f\"MSECV {msecv}\")\n",
    "    \n",
    "    plt.scatter(predicted,y,color=\"r\",edgecolor=\"k\",alpha=0.5)\n",
    "    plt.show()\n",
    "    "
   ]
  },
  {
   "cell_type": "code",
   "execution_count": 16,
   "metadata": {},
   "outputs": [
    {
     "name": "stdout",
     "output_type": "stream",
     "text": [
      "2.5% completed | MSE = 5.940885184351975 \n",
      "5.0% completed | MSE = 5.940885184351975 \n",
      "7.5% completed | MSE = 5.075698862992619 \n",
      "10.0% completed | MSE = 3.84108798867216 \n",
      "12.5% completed | MSE = 3.2933856351325885 \n",
      "15.0% completed | MSE = 2.892201541865217 \n",
      "17.5% completed | MSE = 2.7043335459496354 \n",
      "20.0% completed | MSE = 2.7654169021356534 \n",
      "22.5% completed | MSE = 2.9038247820731518 \n",
      "25.0% completed | MSE = 3.034705721517773 \n",
      "27.5% completed | MSE = 3.358180117460062 \n",
      "30.0% completed | MSE = 3.524355170295278 \n",
      "32.5% completed | MSE = 3.9849955243395665 \n",
      "35.0% completed | MSE = 3.5785474054676767 \n",
      "37.5% completed | MSE = 3.01218376114618 \n",
      "40.0% completed | MSE = 3.1857817328333504 \n",
      "42.5% completed | MSE = 3.632490847658283 \n",
      "45.0% completed | MSE = 3.554204441704043 \n",
      "47.5% completed | MSE = 3.4560589927417182 \n",
      "50.0% completed | MSE = 3.543915790545322 \n",
      "52.5% completed | MSE = 3.6943443261510756 \n",
      "55.0% completed | MSE = 4.021967993361531 \n",
      "57.5% completed | MSE = 4.253794254901935 \n",
      "60.0% completed | MSE = 4.805887052023135 \n",
      "62.5% completed | MSE = 5.131901359106346 \n",
      "65.0% completed | MSE = 5.165493100438977 \n",
      "67.5% completed | MSE = 5.036573727217609 \n",
      "70.0% completed | MSE = 5.068319120738934 \n",
      "72.5% completed | MSE = 4.942264937981149 \n",
      "75.0% completed | MSE = 4.894809214654426 \n",
      "77.5% completed | MSE = 4.934847876819013 \n",
      "80.0% completed | MSE = 4.944466957284472 \n",
      "82.5% completed | MSE = 4.957501868283561 \n",
      "85.0% completed | MSE = 4.96794907060674 \n",
      "87.5% completed | MSE = 4.976852633504841 \n",
      "90.0% completed | MSE = 4.979420840468304 \n",
      "92.5% completed | MSE = 4.981415179275333 \n",
      "95.0% completed | MSE = 4.98230644425941 \n",
      "97.5% completed | MSE = 4.982330390324779 \n",
      "100.0% completed | MSE = 4.98256356038033 \n",
      "\n",
      "\n",
      " Minimum MSE obtained at 5 \n",
      "\n"
     ]
    },
    {
     "data": {
      "image/png": "[encoded data removed]",
      "text/plain": [
       "<Figure size 432x288 with 1 Axes>"
      ]
     },
     "metadata": {
      "needs_background": "light"
     },
     "output_type": "display_data"
    },
    {
     "name": "stdout",
     "output_type": "stream",
     "text": [
      "R-Square 0.6058287425378823\n",
      "R-SquareCV 0.4196091373782198\n",
      "MSE 1.8366425508297675\n",
      "MSECV 2.7043335459496354\n"
     ]
    },
    {
     "data": {
      "image/png": "[encoded data removed]",
      "text/plain": [
       "<Figure size 432x288 with 1 Axes>"
      ]
     },
     "metadata": {
      "needs_background": "light"
     },
     "output_type": "display_data"
    }
   ],
   "source": [
    "PLS_CV(x,y,40)"
   ]
  },
  {
   "cell_type": "code",
   "execution_count": null,
   "metadata": {},
   "outputs": [],
   "source": []
  }
 ],
 "metadata": {
  "kernelspec": {
   "display_name": "Python 3",
   "language": "python",
   "name": "python3"
  },
  "language_info": {
   "codemirror_mode": {
    "name": "ipython",
    "version": 3
   },
   "file_extension": ".py",
   "mimetype": "text/x-python",
   "name": "python",
   "nbconvert_exporter": "python",
   "pygments_lexer": "ipython3",
   "version": "3.8.3"
  }
 },
 "nbformat": 4,
 "nbformat_minor": 4
}
